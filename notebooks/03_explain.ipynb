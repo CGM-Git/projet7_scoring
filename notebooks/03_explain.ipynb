{
 "cells": [
  {
   "cell_type": "code",
   "execution_count": 1,
   "id": "d55bce92",
   "metadata": {},
   "outputs": [
    {
     "name": "stdout",
     "output_type": "stream",
     "text": [
      "OK: (307511, 17) | seuil = 0.6\n"
     ]
    }
   ],
   "source": [
    "# A1 — chemins + chargement artefacts + données\n",
    "from pathlib import Path\n",
    "import joblib, json, pandas as pd, numpy as np\n",
    "\n",
    "ROOT = Path.cwd() if (Path.cwd()/ \"data\" / \"processed\").exists() else Path.cwd().parent\n",
    "PROC, MODELS = ROOT/\"data/processed\", ROOT/\"models\"\n",
    "\n",
    "rf   = joblib.load(MODELS/\"rf_model.joblib\")\n",
    "imp  = joblib.load(MODELS/\"imputer.joblib\")\n",
    "meta = json.load(open(MODELS/\"model_meta.json\"))\n",
    "feat, thr = meta[\"features\"], meta[\"threshold\"]\n",
    "\n",
    "df = pd.read_csv(PROC/\"train_features_v1.csv\")\n",
    "X = df[feat].astype(float).values\n",
    "y = df[\"TARGET\"].astype(int).values\n",
    "proba = rf.predict_proba(imp.transform(X))[:,1]\n",
    "\n",
    "print(\"OK:\", df.shape, \"| seuil =\", thr)\n"
   ]
  },
  {
   "cell_type": "code",
   "execution_count": 2,
   "id": "63d4de2f",
   "metadata": {},
   "outputs": [
    {
     "data": {
      "text/plain": [
       "{'near_thr': 131387, 'FN': 329397, 'FP': 131387}"
      ]
     },
     "execution_count": 2,
     "metadata": {},
     "output_type": "execute_result"
    }
   ],
   "source": [
    "# A2 — on prend 3 cas autour du seuil : 1 TP, 1 FP, 1 FN\n",
    "df_ = df.copy()\n",
    "df_[\"proba\"] = proba\n",
    "\n",
    "near_thr_idx = (df_[\"proba\"] - thr).abs().idxmin()\n",
    "# faux négatif : y=1 mais proba<thr (le plus proche du seuil)\n",
    "fn_idx = df_.query(\"TARGET==1 and proba < @thr\")[\"proba\"].sort_values(ascending=False).index[:1]\n",
    "# faux positif : y=0 mais proba>=thr (le plus proche du seuil)\n",
    "fp_idx = df_.query(\"TARGET==0 and proba >= @thr\")[\"proba\"].sort_values().index[:1]\n",
    "\n",
    "ids = {\n",
    "    \"near_thr\": int(df_.loc[near_thr_idx,\"SK_ID_CURR\"]),\n",
    "    \"FN\":       int(df_.loc[fn_idx].iloc[0][\"SK_ID_CURR\"]),\n",
    "    \"FP\":       int(df_.loc[fp_idx].iloc[0][\"SK_ID_CURR\"]),\n",
    "}\n",
    "ids\n"
   ]
  },
  {
   "cell_type": "code",
   "execution_count": 3,
   "id": "173b7228",
   "metadata": {},
   "outputs": [
    {
     "name": "stdout",
     "output_type": "stream",
     "text": [
      "\n",
      "=== Cas near_thr — SK_ID_CURR=131387 — TARGET=0 — proba=0.600\n"
     ]
    },
    {
     "data": {
      "application/vnd.microsoft.datawrangler.viewer.v0+json": {
       "columns": [
        {
         "name": "index",
         "rawType": "int64",
         "type": "integer"
        },
        {
         "name": "feature",
         "rawType": "object",
         "type": "string"
        },
        {
         "name": "changement",
         "rawType": "object",
         "type": "string"
        },
        {
         "name": "proba_base",
         "rawType": "float64",
         "type": "float"
        },
        {
         "name": "proba_nouvelle",
         "rawType": "float64",
         "type": "float"
        },
        {
         "name": "delta",
         "rawType": "float64",
         "type": "float"
        }
       ],
       "ref": "4d6ec6c4-3cab-4b5e-8383-88c234601558",
       "rows": [
        [
         "4",
         "EXT_SOURCE_1",
         "-9%",
         "0.6",
         "0.599",
         "-0.001"
        ],
        [
         "5",
         "EXT_SOURCE_1",
         "10%",
         "0.6",
         "0.595",
         "-0.005"
        ],
        [
         "0",
         "EXT_SOURCE_2",
         "-9%",
         "0.6",
         "0.633",
         "0.033"
        ],
        [
         "1",
         "EXT_SOURCE_2",
         "10%",
         "0.6",
         "0.544",
         "-0.056"
        ],
        [
         "2",
         "EXT_SOURCE_3",
         "-9%",
         "0.6",
         "0.6",
         "0.0"
        ],
        [
         "3",
         "EXT_SOURCE_3",
         "10%",
         "0.6",
         "0.599",
         "-0.001"
        ],
        [
         "6",
         "credit_term",
         "-9%",
         "0.6",
         "0.637",
         "0.037"
        ],
        [
         "7",
         "credit_term",
         "10%",
         "0.6",
         "0.587",
         "-0.013"
        ],
        [
         "8",
         "employed_years",
         "-9%",
         "0.6",
         "0.602",
         "0.002"
        ],
        [
         "9",
         "employed_years",
         "10%",
         "0.6",
         "0.603",
         "0.003"
        ]
       ],
       "shape": {
        "columns": 5,
        "rows": 10
       }
      },
      "text/html": [
       "<div>\n",
       "<style scoped>\n",
       "    .dataframe tbody tr th:only-of-type {\n",
       "        vertical-align: middle;\n",
       "    }\n",
       "\n",
       "    .dataframe tbody tr th {\n",
       "        vertical-align: top;\n",
       "    }\n",
       "\n",
       "    .dataframe thead th {\n",
       "        text-align: right;\n",
       "    }\n",
       "</style>\n",
       "<table border=\"1\" class=\"dataframe\">\n",
       "  <thead>\n",
       "    <tr style=\"text-align: right;\">\n",
       "      <th></th>\n",
       "      <th>feature</th>\n",
       "      <th>changement</th>\n",
       "      <th>proba_base</th>\n",
       "      <th>proba_nouvelle</th>\n",
       "      <th>delta</th>\n",
       "    </tr>\n",
       "  </thead>\n",
       "  <tbody>\n",
       "    <tr>\n",
       "      <th>4</th>\n",
       "      <td>EXT_SOURCE_1</td>\n",
       "      <td>-9%</td>\n",
       "      <td>0.6</td>\n",
       "      <td>0.599</td>\n",
       "      <td>-0.001</td>\n",
       "    </tr>\n",
       "    <tr>\n",
       "      <th>5</th>\n",
       "      <td>EXT_SOURCE_1</td>\n",
       "      <td>10%</td>\n",
       "      <td>0.6</td>\n",
       "      <td>0.595</td>\n",
       "      <td>-0.005</td>\n",
       "    </tr>\n",
       "    <tr>\n",
       "      <th>0</th>\n",
       "      <td>EXT_SOURCE_2</td>\n",
       "      <td>-9%</td>\n",
       "      <td>0.6</td>\n",
       "      <td>0.633</td>\n",
       "      <td>0.033</td>\n",
       "    </tr>\n",
       "    <tr>\n",
       "      <th>1</th>\n",
       "      <td>EXT_SOURCE_2</td>\n",
       "      <td>10%</td>\n",
       "      <td>0.6</td>\n",
       "      <td>0.544</td>\n",
       "      <td>-0.056</td>\n",
       "    </tr>\n",
       "    <tr>\n",
       "      <th>2</th>\n",
       "      <td>EXT_SOURCE_3</td>\n",
       "      <td>-9%</td>\n",
       "      <td>0.6</td>\n",
       "      <td>0.600</td>\n",
       "      <td>0.000</td>\n",
       "    </tr>\n",
       "    <tr>\n",
       "      <th>3</th>\n",
       "      <td>EXT_SOURCE_3</td>\n",
       "      <td>10%</td>\n",
       "      <td>0.6</td>\n",
       "      <td>0.599</td>\n",
       "      <td>-0.001</td>\n",
       "    </tr>\n",
       "    <tr>\n",
       "      <th>6</th>\n",
       "      <td>credit_term</td>\n",
       "      <td>-9%</td>\n",
       "      <td>0.6</td>\n",
       "      <td>0.637</td>\n",
       "      <td>0.037</td>\n",
       "    </tr>\n",
       "    <tr>\n",
       "      <th>7</th>\n",
       "      <td>credit_term</td>\n",
       "      <td>10%</td>\n",
       "      <td>0.6</td>\n",
       "      <td>0.587</td>\n",
       "      <td>-0.013</td>\n",
       "    </tr>\n",
       "    <tr>\n",
       "      <th>8</th>\n",
       "      <td>employed_years</td>\n",
       "      <td>-9%</td>\n",
       "      <td>0.6</td>\n",
       "      <td>0.602</td>\n",
       "      <td>0.002</td>\n",
       "    </tr>\n",
       "    <tr>\n",
       "      <th>9</th>\n",
       "      <td>employed_years</td>\n",
       "      <td>10%</td>\n",
       "      <td>0.6</td>\n",
       "      <td>0.603</td>\n",
       "      <td>0.003</td>\n",
       "    </tr>\n",
       "  </tbody>\n",
       "</table>\n",
       "</div>"
      ],
      "text/plain": [
       "          feature changement  proba_base  proba_nouvelle  delta\n",
       "4    EXT_SOURCE_1        -9%         0.6           0.599 -0.001\n",
       "5    EXT_SOURCE_1        10%         0.6           0.595 -0.005\n",
       "0    EXT_SOURCE_2        -9%         0.6           0.633  0.033\n",
       "1    EXT_SOURCE_2        10%         0.6           0.544 -0.056\n",
       "2    EXT_SOURCE_3        -9%         0.6           0.600  0.000\n",
       "3    EXT_SOURCE_3        10%         0.6           0.599 -0.001\n",
       "6     credit_term        -9%         0.6           0.637  0.037\n",
       "7     credit_term        10%         0.6           0.587 -0.013\n",
       "8  employed_years        -9%         0.6           0.602  0.002\n",
       "9  employed_years        10%         0.6           0.603  0.003"
      ]
     },
     "metadata": {},
     "output_type": "display_data"
    },
    {
     "name": "stdout",
     "output_type": "stream",
     "text": [
      "\n",
      "=== Cas FN — SK_ID_CURR=329397 — TARGET=1 — proba=0.600\n"
     ]
    },
    {
     "data": {
      "application/vnd.microsoft.datawrangler.viewer.v0+json": {
       "columns": [
        {
         "name": "index",
         "rawType": "int64",
         "type": "integer"
        },
        {
         "name": "feature",
         "rawType": "object",
         "type": "string"
        },
        {
         "name": "changement",
         "rawType": "object",
         "type": "string"
        },
        {
         "name": "proba_base",
         "rawType": "float64",
         "type": "float"
        },
        {
         "name": "proba_nouvelle",
         "rawType": "float64",
         "type": "float"
        },
        {
         "name": "delta",
         "rawType": "float64",
         "type": "float"
        }
       ],
       "ref": "50b17f0c-c6d3-4cb9-9c4e-69125f68cb31",
       "rows": [
        [
         "4",
         "EXT_SOURCE_1",
         "-9%",
         "0.6",
         "0.6",
         "0.0"
        ],
        [
         "5",
         "EXT_SOURCE_1",
         "10%",
         "0.6",
         "0.6",
         "0.0"
        ],
        [
         "0",
         "EXT_SOURCE_2",
         "-9%",
         "0.6",
         "0.606",
         "0.006"
        ],
        [
         "1",
         "EXT_SOURCE_2",
         "10%",
         "0.6",
         "0.594",
         "-0.006"
        ],
        [
         "2",
         "EXT_SOURCE_3",
         "-9%",
         "0.6",
         "0.608",
         "0.008"
        ],
        [
         "3",
         "EXT_SOURCE_3",
         "10%",
         "0.6",
         "0.601",
         "0.001"
        ],
        [
         "6",
         "credit_term",
         "-9%",
         "0.6",
         "0.609",
         "0.009"
        ],
        [
         "7",
         "credit_term",
         "10%",
         "0.6",
         "0.515",
         "-0.085"
        ],
        [
         "8",
         "employed_years",
         "-9%",
         "0.6",
         "0.596",
         "-0.004"
        ],
        [
         "9",
         "employed_years",
         "10%",
         "0.6",
         "0.601",
         "0.001"
        ]
       ],
       "shape": {
        "columns": 5,
        "rows": 10
       }
      },
      "text/html": [
       "<div>\n",
       "<style scoped>\n",
       "    .dataframe tbody tr th:only-of-type {\n",
       "        vertical-align: middle;\n",
       "    }\n",
       "\n",
       "    .dataframe tbody tr th {\n",
       "        vertical-align: top;\n",
       "    }\n",
       "\n",
       "    .dataframe thead th {\n",
       "        text-align: right;\n",
       "    }\n",
       "</style>\n",
       "<table border=\"1\" class=\"dataframe\">\n",
       "  <thead>\n",
       "    <tr style=\"text-align: right;\">\n",
       "      <th></th>\n",
       "      <th>feature</th>\n",
       "      <th>changement</th>\n",
       "      <th>proba_base</th>\n",
       "      <th>proba_nouvelle</th>\n",
       "      <th>delta</th>\n",
       "    </tr>\n",
       "  </thead>\n",
       "  <tbody>\n",
       "    <tr>\n",
       "      <th>4</th>\n",
       "      <td>EXT_SOURCE_1</td>\n",
       "      <td>-9%</td>\n",
       "      <td>0.6</td>\n",
       "      <td>0.600</td>\n",
       "      <td>0.000</td>\n",
       "    </tr>\n",
       "    <tr>\n",
       "      <th>5</th>\n",
       "      <td>EXT_SOURCE_1</td>\n",
       "      <td>10%</td>\n",
       "      <td>0.6</td>\n",
       "      <td>0.600</td>\n",
       "      <td>0.000</td>\n",
       "    </tr>\n",
       "    <tr>\n",
       "      <th>0</th>\n",
       "      <td>EXT_SOURCE_2</td>\n",
       "      <td>-9%</td>\n",
       "      <td>0.6</td>\n",
       "      <td>0.606</td>\n",
       "      <td>0.006</td>\n",
       "    </tr>\n",
       "    <tr>\n",
       "      <th>1</th>\n",
       "      <td>EXT_SOURCE_2</td>\n",
       "      <td>10%</td>\n",
       "      <td>0.6</td>\n",
       "      <td>0.594</td>\n",
       "      <td>-0.006</td>\n",
       "    </tr>\n",
       "    <tr>\n",
       "      <th>2</th>\n",
       "      <td>EXT_SOURCE_3</td>\n",
       "      <td>-9%</td>\n",
       "      <td>0.6</td>\n",
       "      <td>0.608</td>\n",
       "      <td>0.008</td>\n",
       "    </tr>\n",
       "    <tr>\n",
       "      <th>3</th>\n",
       "      <td>EXT_SOURCE_3</td>\n",
       "      <td>10%</td>\n",
       "      <td>0.6</td>\n",
       "      <td>0.601</td>\n",
       "      <td>0.001</td>\n",
       "    </tr>\n",
       "    <tr>\n",
       "      <th>6</th>\n",
       "      <td>credit_term</td>\n",
       "      <td>-9%</td>\n",
       "      <td>0.6</td>\n",
       "      <td>0.609</td>\n",
       "      <td>0.009</td>\n",
       "    </tr>\n",
       "    <tr>\n",
       "      <th>7</th>\n",
       "      <td>credit_term</td>\n",
       "      <td>10%</td>\n",
       "      <td>0.6</td>\n",
       "      <td>0.515</td>\n",
       "      <td>-0.085</td>\n",
       "    </tr>\n",
       "    <tr>\n",
       "      <th>8</th>\n",
       "      <td>employed_years</td>\n",
       "      <td>-9%</td>\n",
       "      <td>0.6</td>\n",
       "      <td>0.596</td>\n",
       "      <td>-0.004</td>\n",
       "    </tr>\n",
       "    <tr>\n",
       "      <th>9</th>\n",
       "      <td>employed_years</td>\n",
       "      <td>10%</td>\n",
       "      <td>0.6</td>\n",
       "      <td>0.601</td>\n",
       "      <td>0.001</td>\n",
       "    </tr>\n",
       "  </tbody>\n",
       "</table>\n",
       "</div>"
      ],
      "text/plain": [
       "          feature changement  proba_base  proba_nouvelle  delta\n",
       "4    EXT_SOURCE_1        -9%         0.6           0.600  0.000\n",
       "5    EXT_SOURCE_1        10%         0.6           0.600  0.000\n",
       "0    EXT_SOURCE_2        -9%         0.6           0.606  0.006\n",
       "1    EXT_SOURCE_2        10%         0.6           0.594 -0.006\n",
       "2    EXT_SOURCE_3        -9%         0.6           0.608  0.008\n",
       "3    EXT_SOURCE_3        10%         0.6           0.601  0.001\n",
       "6     credit_term        -9%         0.6           0.609  0.009\n",
       "7     credit_term        10%         0.6           0.515 -0.085\n",
       "8  employed_years        -9%         0.6           0.596 -0.004\n",
       "9  employed_years        10%         0.6           0.601  0.001"
      ]
     },
     "metadata": {},
     "output_type": "display_data"
    },
    {
     "name": "stdout",
     "output_type": "stream",
     "text": [
      "\n",
      "=== Cas FP — SK_ID_CURR=131387 — TARGET=0 — proba=0.600\n"
     ]
    },
    {
     "data": {
      "application/vnd.microsoft.datawrangler.viewer.v0+json": {
       "columns": [
        {
         "name": "index",
         "rawType": "int64",
         "type": "integer"
        },
        {
         "name": "feature",
         "rawType": "object",
         "type": "string"
        },
        {
         "name": "changement",
         "rawType": "object",
         "type": "string"
        },
        {
         "name": "proba_base",
         "rawType": "float64",
         "type": "float"
        },
        {
         "name": "proba_nouvelle",
         "rawType": "float64",
         "type": "float"
        },
        {
         "name": "delta",
         "rawType": "float64",
         "type": "float"
        }
       ],
       "ref": "5d16d790-2c8e-4f66-9718-83d05b5e2abf",
       "rows": [
        [
         "4",
         "EXT_SOURCE_1",
         "-9%",
         "0.6",
         "0.599",
         "-0.001"
        ],
        [
         "5",
         "EXT_SOURCE_1",
         "10%",
         "0.6",
         "0.595",
         "-0.005"
        ],
        [
         "0",
         "EXT_SOURCE_2",
         "-9%",
         "0.6",
         "0.633",
         "0.033"
        ],
        [
         "1",
         "EXT_SOURCE_2",
         "10%",
         "0.6",
         "0.544",
         "-0.056"
        ],
        [
         "2",
         "EXT_SOURCE_3",
         "-9%",
         "0.6",
         "0.6",
         "0.0"
        ],
        [
         "3",
         "EXT_SOURCE_3",
         "10%",
         "0.6",
         "0.599",
         "-0.001"
        ],
        [
         "6",
         "credit_term",
         "-9%",
         "0.6",
         "0.637",
         "0.037"
        ],
        [
         "7",
         "credit_term",
         "10%",
         "0.6",
         "0.587",
         "-0.013"
        ],
        [
         "8",
         "employed_years",
         "-9%",
         "0.6",
         "0.602",
         "0.002"
        ],
        [
         "9",
         "employed_years",
         "10%",
         "0.6",
         "0.603",
         "0.003"
        ]
       ],
       "shape": {
        "columns": 5,
        "rows": 10
       }
      },
      "text/html": [
       "<div>\n",
       "<style scoped>\n",
       "    .dataframe tbody tr th:only-of-type {\n",
       "        vertical-align: middle;\n",
       "    }\n",
       "\n",
       "    .dataframe tbody tr th {\n",
       "        vertical-align: top;\n",
       "    }\n",
       "\n",
       "    .dataframe thead th {\n",
       "        text-align: right;\n",
       "    }\n",
       "</style>\n",
       "<table border=\"1\" class=\"dataframe\">\n",
       "  <thead>\n",
       "    <tr style=\"text-align: right;\">\n",
       "      <th></th>\n",
       "      <th>feature</th>\n",
       "      <th>changement</th>\n",
       "      <th>proba_base</th>\n",
       "      <th>proba_nouvelle</th>\n",
       "      <th>delta</th>\n",
       "    </tr>\n",
       "  </thead>\n",
       "  <tbody>\n",
       "    <tr>\n",
       "      <th>4</th>\n",
       "      <td>EXT_SOURCE_1</td>\n",
       "      <td>-9%</td>\n",
       "      <td>0.6</td>\n",
       "      <td>0.599</td>\n",
       "      <td>-0.001</td>\n",
       "    </tr>\n",
       "    <tr>\n",
       "      <th>5</th>\n",
       "      <td>EXT_SOURCE_1</td>\n",
       "      <td>10%</td>\n",
       "      <td>0.6</td>\n",
       "      <td>0.595</td>\n",
       "      <td>-0.005</td>\n",
       "    </tr>\n",
       "    <tr>\n",
       "      <th>0</th>\n",
       "      <td>EXT_SOURCE_2</td>\n",
       "      <td>-9%</td>\n",
       "      <td>0.6</td>\n",
       "      <td>0.633</td>\n",
       "      <td>0.033</td>\n",
       "    </tr>\n",
       "    <tr>\n",
       "      <th>1</th>\n",
       "      <td>EXT_SOURCE_2</td>\n",
       "      <td>10%</td>\n",
       "      <td>0.6</td>\n",
       "      <td>0.544</td>\n",
       "      <td>-0.056</td>\n",
       "    </tr>\n",
       "    <tr>\n",
       "      <th>2</th>\n",
       "      <td>EXT_SOURCE_3</td>\n",
       "      <td>-9%</td>\n",
       "      <td>0.6</td>\n",
       "      <td>0.600</td>\n",
       "      <td>0.000</td>\n",
       "    </tr>\n",
       "    <tr>\n",
       "      <th>3</th>\n",
       "      <td>EXT_SOURCE_3</td>\n",
       "      <td>10%</td>\n",
       "      <td>0.6</td>\n",
       "      <td>0.599</td>\n",
       "      <td>-0.001</td>\n",
       "    </tr>\n",
       "    <tr>\n",
       "      <th>6</th>\n",
       "      <td>credit_term</td>\n",
       "      <td>-9%</td>\n",
       "      <td>0.6</td>\n",
       "      <td>0.637</td>\n",
       "      <td>0.037</td>\n",
       "    </tr>\n",
       "    <tr>\n",
       "      <th>7</th>\n",
       "      <td>credit_term</td>\n",
       "      <td>10%</td>\n",
       "      <td>0.6</td>\n",
       "      <td>0.587</td>\n",
       "      <td>-0.013</td>\n",
       "    </tr>\n",
       "    <tr>\n",
       "      <th>8</th>\n",
       "      <td>employed_years</td>\n",
       "      <td>-9%</td>\n",
       "      <td>0.6</td>\n",
       "      <td>0.602</td>\n",
       "      <td>0.002</td>\n",
       "    </tr>\n",
       "    <tr>\n",
       "      <th>9</th>\n",
       "      <td>employed_years</td>\n",
       "      <td>10%</td>\n",
       "      <td>0.6</td>\n",
       "      <td>0.603</td>\n",
       "      <td>0.003</td>\n",
       "    </tr>\n",
       "  </tbody>\n",
       "</table>\n",
       "</div>"
      ],
      "text/plain": [
       "          feature changement  proba_base  proba_nouvelle  delta\n",
       "4    EXT_SOURCE_1        -9%         0.6           0.599 -0.001\n",
       "5    EXT_SOURCE_1        10%         0.6           0.595 -0.005\n",
       "0    EXT_SOURCE_2        -9%         0.6           0.633  0.033\n",
       "1    EXT_SOURCE_2        10%         0.6           0.544 -0.056\n",
       "2    EXT_SOURCE_3        -9%         0.6           0.600  0.000\n",
       "3    EXT_SOURCE_3        10%         0.6           0.599 -0.001\n",
       "6     credit_term        -9%         0.6           0.637  0.037\n",
       "7     credit_term        10%         0.6           0.587 -0.013\n",
       "8  employed_years        -9%         0.6           0.602  0.002\n",
       "9  employed_years        10%         0.6           0.603  0.003"
      ]
     },
     "metadata": {},
     "output_type": "display_data"
    }
   ],
   "source": [
    "# A3 — mini \"what-if\": on change ±10% 5 features top et on voit l'impact sur la proba\n",
    "top5 = [c for c in [\"EXT_SOURCE_2\",\"EXT_SOURCE_3\",\"EXT_SOURCE_1\",\n",
    "                    \"credit_term\",\"employed_years\"] if c in feat][:5]\n",
    "\n",
    "def what_if_one(row):\n",
    "    rows=[]\n",
    "    for c in top5:\n",
    "        base = row.copy()\n",
    "        p0 = rf.predict_proba(imp.transform(base[feat].astype(float).to_frame().T.values))[:,1][0]\n",
    "        for mult in (0.9, 1.1):\n",
    "            test = base.copy()\n",
    "            if pd.notna(test[c]):\n",
    "                test[c] = test[c] * mult\n",
    "            p = rf.predict_proba(imp.transform(test[feat].astype(float).to_frame().T.values))[:,1][0]\n",
    "            rows.append({\"feature\": c, \"changement\": f\"{int((mult-1)*100)}%\",\n",
    "                         \"proba_base\": round(p0,3), \"proba_nouvelle\": round(p,3),\n",
    "                         \"delta\": round(p-p0,3)})\n",
    "    return pd.DataFrame(rows).sort_values([\"feature\",\"changement\"])\n",
    "\n",
    "for tag, sk in ids.items():\n",
    "    row = df_.loc[df_[\"SK_ID_CURR\"]==sk].iloc[0]\n",
    "    tbl = what_if_one(row)\n",
    "    print(f\"\\n=== Cas {tag} — SK_ID_CURR={sk} — TARGET={int(row.TARGET)} — proba={row.proba:.3f}\")\n",
    "    display(tbl)\n"
   ]
  }
 ],
 "metadata": {
  "kernelspec": {
   "display_name": "Python (.venv) Projet7",
   "language": "python",
   "name": "projet7"
  },
  "language_info": {
   "codemirror_mode": {
    "name": "ipython",
    "version": 3
   },
   "file_extension": ".py",
   "mimetype": "text/x-python",
   "name": "python",
   "nbconvert_exporter": "python",
   "pygments_lexer": "ipython3",
   "version": "3.10.11"
  }
 },
 "nbformat": 4,
 "nbformat_minor": 5
}
