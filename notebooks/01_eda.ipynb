{
 "cells": [
  {
   "cell_type": "markdown",
   "id": "7a858188",
   "metadata": {},
   "source": [
    "# 01 — EDA\n",
    "\n",
    "Objectif: vérifier que tout fonctionne et regarder rapidement les données."
   ]
  },
  {
   "cell_type": "code",
   "execution_count": null,
   "id": "d55bce92",
   "metadata": {},
   "outputs": [
    {
     "name": "stdout",
     "output_type": "stream",
     "text": [
      "Python utilisé : c:\\Users\\FFix\\Desktop\\Formation Data Science\\Projects\\OpenClassroom\\Project 07\\projet7_starter\\.venv\\Scripts\\python.exe\n",
      "ROOT           : c:\\Users\\FFix\\Desktop\\Formation Data Science\\Projects\\OpenClassroom\\Project 07\\projet7_starter\n",
      "RAW            : c:\\Users\\FFix\\Desktop\\Formation Data Science\\Projects\\OpenClassroom\\Project 07\\projet7_starter\\data\\raw\n",
      "CSV trouvés    : 10\n",
      "['HomeCredit_columns_description.csv', 'POS_CASH_balance.csv', 'application_test.csv', 'application_train.csv', 'bureau.csv', 'bureau_balance.csv', 'credit_card_balance.csv', 'installments_payments.csv', 'previous_application.csv', 'sample_submission.csv']\n"
     ]
    }
   ],
   "source": [
    "# Cellule 1 — Amorçage VS Code/Jupyter\n",
    "# But: fixer les chemins, vérifier le kernel .venv, lister les CSV.\n",
    "from pathlib import Path\n",
    "import sys\n",
    "\n",
    "# Racine projet (si le notebook est dans /notebooks, on remonte d'un cran)\n",
    "ROOT = Path.cwd() if (Path.cwd() / \"data\" / \"raw\").exists() else Path.cwd().parent\n",
    "RAW  = ROOT / \"data\" / \"raw\"\n",
    "\n",
    "print(\"Python utilisé :\", sys.executable)        # Doit contenir \".venv\"\n",
    "print(\"ROOT           :\", ROOT)                   # Dossier projet7_scoring\n",
    "print(\"RAW            :\", RAW)                    # .../data/raw\n",
    "\n",
    "# Lister les CSV présents\n",
    "csvs = sorted(p.name for p in RAW.glob(\"*.csv\"))\n",
    "print(\"CSV trouvés    :\", len(csvs))\n",
    "print(csvs)\n",
    "\n",
    "# Garde-fou minimal\n",
    "assert RAW.exists(), \"Le dossier data/raw est introuvable.\"\n",
    "assert (RAW/\"application_train.csv\").exists(), \"application_train.csv manquant dans data/raw.\"\n"
   ]
  },
  {
   "cell_type": "code",
   "execution_count": 18,
   "id": "63d4de2f",
   "metadata": {},
   "outputs": [
    {
     "name": "stdout",
     "output_type": "stream",
     "text": [
      "Lignes, colonnes : (307511, 2)\n",
      "Comptes par classe : {0: 282686, 1: 24825}\n",
      "Prévalence (classe 1) : 8.07%\n"
     ]
    },
    {
     "data": {
      "image/png": "[encoded data removed]",
      "text/plain": [
       "<Figure size 640x480 with 1 Axes>"
      ]
     },
     "metadata": {},
     "output_type": "display_data"
    }
   ],
   "source": [
    "# Cellule 2 — Cible : 0 vs 1\n",
    "import pandas as pd\n",
    "import matplotlib.pyplot as plt\n",
    "\n",
    "train = pd.read_csv(RAW/\"application_train.csv\", usecols=[\"SK_ID_CURR\",\"TARGET\"])\n",
    "print(\"Lignes, colonnes :\", train.shape)\n",
    "\n",
    "vc = train[\"TARGET\"].value_counts().sort_index()\n",
    "prev = train[\"TARGET\"].mean()\n",
    "\n",
    "print(\"Comptes par classe :\", vc.to_dict())\n",
    "print(f\"Prévalence (classe 1) : {prev:.2%}\")\n",
    "\n",
    "vc.plot(kind=\"bar\")\n",
    "plt.title(\"Cible : 0 vs 1 (ensemble complet)\")\n",
    "plt.xlabel(\"Classe\")\n",
    "plt.ylabel(\"Nombre de lignes\")\n",
    "plt.show()\n"
   ]
  },
  {
   "cell_type": "code",
   "execution_count": 19,
   "id": "b6d09ae4",
   "metadata": {},
   "outputs": [
    {
     "name": "stdout",
     "output_type": "stream",
     "text": [
      "train: (307511, 2)\n",
      "bb_per_bureau: (817395, 2)\n",
      "bureau_feat: (305811, 3)\n",
      "train_plus: (307511, 4)\n",
      "Écrit : c:\\Users\\FFix\\Desktop\\Formation Data Science\\Projects\\OpenClassroom\\Project 07\\projet7_starter\\data\\processed\\train_plus_bureau.csv\n"
     ]
    }
   ],
   "source": [
    "# Cellule 3 — Features \"bureau\"\n",
    "from pathlib import Path\n",
    "import pandas as pd\n",
    "from collections import Counter\n",
    "\n",
    "# Chemins (réutilise ROOT/RAW si déjà définis)\n",
    "ROOT = Path.cwd() if (Path.cwd()/\"data\"/\"raw\").exists() else Path.cwd().parent\n",
    "RAW  = ROOT / \"data\" / \"raw\"\n",
    "PROC = ROOT / \"data\" / \"processed\"\n",
    "PROC.mkdir(parents=True, exist_ok=True)\n",
    "\n",
    "# 1) Table maîtresse (léger)\n",
    "train = pd.read_csv(RAW/\"application_train.csv\", usecols=[\"SK_ID_CURR\",\"TARGET\"])\n",
    "print(\"train:\", train.shape)\n",
    "\n",
    "# 2) Compte des lignes de bureau_balance par SK_ID_BUREAU (lecture par morceaux)\n",
    "bb_counts = Counter()\n",
    "for chunk in pd.read_csv(RAW/\"bureau_balance.csv\", chunksize=500_000):\n",
    "    vc = chunk[\"SK_ID_BUREAU\"].value_counts()\n",
    "    for k, v in vc.items():\n",
    "        bb_counts[k] += int(v)\n",
    "bb_per_bureau = pd.DataFrame({\"SK_ID_BUREAU\": list(bb_counts.keys()),\n",
    "                              \"bb_count\": list(bb_counts.values())})\n",
    "print(\"bb_per_bureau:\", bb_per_bureau.shape)\n",
    "\n",
    "# 3) Join vers bureau pour récupérer SK_ID_CURR\n",
    "bureau = pd.read_csv(RAW/\"bureau.csv\", usecols=[\"SK_ID_CURR\",\"SK_ID_BUREAU\"])\n",
    "bureau_enriched = bureau.merge(bb_per_bureau, on=\"SK_ID_BUREAU\", how=\"left\")\n",
    "bureau_enriched[\"bb_count\"] = bureau_enriched[\"bb_count\"].fillna(0)\n",
    "\n",
    "# 4) Agrégation au niveau client (2 features)\n",
    "bureau_feat = (bureau_enriched\n",
    "               .groupby(\"SK_ID_CURR\")\n",
    "               .agg(n_bureau=(\"SK_ID_BUREAU\",\"count\"),\n",
    "                    n_bureau_months=(\"bb_count\",\"sum\"))\n",
    "               .reset_index())\n",
    "print(\"bureau_feat:\", bureau_feat.shape)\n",
    "\n",
    "# 5) Merge avec la table maîtresse + sauvegarde\n",
    "train_plus = train.merge(bureau_feat, on=\"SK_ID_CURR\", how=\"left\").fillna(0)\n",
    "print(\"train_plus:\", train_plus.shape)\n",
    "\n",
    "out_path = PROC / \"train_plus_bureau.csv\"\n",
    "train_plus.to_csv(out_path, index=False)\n",
    "print(\"Écrit :\", out_path)\n"
   ]
  },
  {
   "cell_type": "code",
   "execution_count": 20,
   "id": "97261fe6",
   "metadata": {},
   "outputs": [
    {
     "name": "stdout",
     "output_type": "stream",
     "text": [
      "base: (307511, 4)\n",
      "previous_application: (1670214, 2)\n",
      "inst: (997752, 2) posc: (936325, 2) ccb: (104307, 2)\n",
      "prev_feat: (338857, 5)\n"
     ]
    },
    {
     "data": {
      "application/vnd.microsoft.datawrangler.viewer.v0+json": {
       "columns": [
        {
         "name": "index",
         "rawType": "int64",
         "type": "integer"
        },
        {
         "name": "SK_ID_CURR",
         "rawType": "int64",
         "type": "integer"
        },
        {
         "name": "n_prev",
         "rawType": "int64",
         "type": "integer"
        },
        {
         "name": "n_inst_pay",
         "rawType": "float64",
         "type": "float"
        },
        {
         "name": "n_pos_cash",
         "rawType": "float64",
         "type": "float"
        },
        {
         "name": "n_ccb",
         "rawType": "float64",
         "type": "float"
        }
       ],
       "ref": "8b81b5f5-0829-4c83-8fe5-2209f591b88e",
       "rows": [
        [
         "0",
         "100001",
         "1",
         "4.0",
         "5.0",
         "0.0"
        ],
        [
         "1",
         "100002",
         "1",
         "19.0",
         "19.0",
         "0.0"
        ],
        [
         "2",
         "100003",
         "3",
         "25.0",
         "28.0",
         "0.0"
        ],
        [
         "3",
         "100004",
         "1",
         "3.0",
         "4.0",
         "0.0"
        ],
        [
         "4",
         "100005",
         "2",
         "9.0",
         "11.0",
         "0.0"
        ]
       ],
       "shape": {
        "columns": 5,
        "rows": 5
       }
      },
      "text/html": [
       "<div>\n",
       "<style scoped>\n",
       "    .dataframe tbody tr th:only-of-type {\n",
       "        vertical-align: middle;\n",
       "    }\n",
       "\n",
       "    .dataframe tbody tr th {\n",
       "        vertical-align: top;\n",
       "    }\n",
       "\n",
       "    .dataframe thead th {\n",
       "        text-align: right;\n",
       "    }\n",
       "</style>\n",
       "<table border=\"1\" class=\"dataframe\">\n",
       "  <thead>\n",
       "    <tr style=\"text-align: right;\">\n",
       "      <th></th>\n",
       "      <th>SK_ID_CURR</th>\n",
       "      <th>n_prev</th>\n",
       "      <th>n_inst_pay</th>\n",
       "      <th>n_pos_cash</th>\n",
       "      <th>n_ccb</th>\n",
       "    </tr>\n",
       "  </thead>\n",
       "  <tbody>\n",
       "    <tr>\n",
       "      <th>0</th>\n",
       "      <td>100001</td>\n",
       "      <td>1</td>\n",
       "      <td>4.0</td>\n",
       "      <td>5.0</td>\n",
       "      <td>0.0</td>\n",
       "    </tr>\n",
       "    <tr>\n",
       "      <th>1</th>\n",
       "      <td>100002</td>\n",
       "      <td>1</td>\n",
       "      <td>19.0</td>\n",
       "      <td>19.0</td>\n",
       "      <td>0.0</td>\n",
       "    </tr>\n",
       "    <tr>\n",
       "      <th>2</th>\n",
       "      <td>100003</td>\n",
       "      <td>3</td>\n",
       "      <td>25.0</td>\n",
       "      <td>28.0</td>\n",
       "      <td>0.0</td>\n",
       "    </tr>\n",
       "    <tr>\n",
       "      <th>3</th>\n",
       "      <td>100004</td>\n",
       "      <td>1</td>\n",
       "      <td>3.0</td>\n",
       "      <td>4.0</td>\n",
       "      <td>0.0</td>\n",
       "    </tr>\n",
       "    <tr>\n",
       "      <th>4</th>\n",
       "      <td>100005</td>\n",
       "      <td>2</td>\n",
       "      <td>9.0</td>\n",
       "      <td>11.0</td>\n",
       "      <td>0.0</td>\n",
       "    </tr>\n",
       "  </tbody>\n",
       "</table>\n",
       "</div>"
      ],
      "text/plain": [
       "   SK_ID_CURR  n_prev  n_inst_pay  n_pos_cash  n_ccb\n",
       "0      100001       1         4.0         5.0    0.0\n",
       "1      100002       1        19.0        19.0    0.0\n",
       "2      100003       3        25.0        28.0    0.0\n",
       "3      100004       1         3.0         4.0    0.0\n",
       "4      100005       2         9.0        11.0    0.0"
      ]
     },
     "metadata": {},
     "output_type": "display_data"
    },
    {
     "name": "stdout",
     "output_type": "stream",
     "text": [
      "final_df: (307511, 8)\n",
      "Écrit : c:\\Users\\FFix\\Desktop\\Formation Data Science\\Projects\\OpenClassroom\\Project 07\\projet7_starter\\data\\processed\\train_plus_bureau_prev.csv\n"
     ]
    }
   ],
   "source": [
    "# Cellule 4 — Features \"previous_*\" (compteurs simples par client) + sauvegarde\n",
    "from pathlib import Path\n",
    "import pandas as pd\n",
    "from collections import Counter\n",
    "\n",
    "# Chemins (robustes)\n",
    "ROOT = Path.cwd() if (Path.cwd()/ \"data\" / \"raw\").exists() else Path.cwd().parent\n",
    "RAW  = ROOT / \"data\" / \"raw\"\n",
    "PROC = ROOT / \"data\" / \"processed\"\n",
    "PROC.mkdir(parents=True, exist_ok=True)\n",
    "\n",
    "# Repartir du fichier créé à l'étape précédente\n",
    "base = pd.read_csv(PROC / \"train_plus_bureau.csv\")  # contient SK_ID_CURR, TARGET, n_bureau, n_bureau_months\n",
    "print(\"base:\", base.shape)\n",
    "\n",
    "# Table \"previous_application\" (clé vers client et vers SK_ID_PREV)\n",
    "prev = pd.read_csv(RAW / \"previous_application.csv\", usecols=[\"SK_ID_CURR\",\"SK_ID_PREV\"])\n",
    "print(\"previous_application:\", prev.shape)\n",
    "\n",
    "# Fonction utilitaire: compter par SK_ID_PREV (lecture par morceaux pour limiter la RAM)\n",
    "def count_by_prev(csv_filename, key=\"SK_ID_PREV\", chunksize=500_000):\n",
    "    cnt = Counter()\n",
    "    for chunk in pd.read_csv(RAW / csv_filename, chunksize=chunksize):\n",
    "        vc = chunk[key].value_counts()\n",
    "        for k, v in vc.items():\n",
    "            cnt[k] += int(v)\n",
    "    return pd.DataFrame({key: list(cnt.keys()), \"count\": list(cnt.values())})\n",
    "\n",
    "# Compteurs par SK_ID_PREV pour les 3 tables liées\n",
    "inst = count_by_prev(\"installments_payments.csv\"); inst.rename(columns={\"count\":\"n_inst_pay\"}, inplace=True)\n",
    "posc = count_by_prev(\"POS_CASH_balance.csv\");     posc.rename(columns={\"count\":\"n_pos_cash\"}, inplace=True)\n",
    "ccb  = count_by_prev(\"credit_card_balance.csv\");  ccb.rename(columns={\"count\":\"n_ccb\"}, inplace=True)\n",
    "print(\"inst:\", inst.shape, \"posc:\", posc.shape, \"ccb:\", ccb.shape)\n",
    "\n",
    "# Joindre aux prev puis agréger au niveau client\n",
    "prev_enriched = (prev\n",
    "                 .merge(inst, on=\"SK_ID_PREV\", how=\"left\")\n",
    "                 .merge(posc, on=\"SK_ID_PREV\", how=\"left\")\n",
    "                 .merge(ccb,  on=\"SK_ID_PREV\", how=\"left\")\n",
    "                 .fillna(0))\n",
    "\n",
    "prev_feat = (prev_enriched\n",
    "             .groupby(\"SK_ID_CURR\")\n",
    "             .agg(n_prev=(\"SK_ID_PREV\",\"count\"),\n",
    "                  n_inst_pay=(\"n_inst_pay\",\"sum\"),\n",
    "                  n_pos_cash=(\"n_pos_cash\",\"sum\"),\n",
    "                  n_ccb=(\"n_ccb\",\"sum\"))\n",
    "             .reset_index())\n",
    "\n",
    "print(\"prev_feat:\", prev_feat.shape)\n",
    "display(prev_feat.head())\n",
    "\n",
    "# Fusion finale avec la base et sauvegarde\n",
    "final_df = base.merge(prev_feat, on=\"SK_ID_CURR\", how=\"left\").fillna(0)\n",
    "print(\"final_df:\", final_df.shape)\n",
    "\n",
    "out_path = PROC / \"train_plus_bureau_prev.csv\"\n",
    "final_df.to_csv(out_path, index=False)\n",
    "print(\"Écrit :\", out_path)"
   ]
  },
  {
   "cell_type": "code",
   "execution_count": 22,
   "id": "26f67465",
   "metadata": {},
   "outputs": [
    {
     "name": "stdout",
     "output_type": "stream",
     "text": [
      "Features utilisées: ['n_bureau', 'n_bureau_months', 'n_prev', 'n_inst_pay', 'n_pos_cash', 'n_ccb'] | Positifs (classe 1): 24825\n",
      "\n",
      "Seuil choisi (auto) : 0.515\n",
      "F1 (avec ce seuil)  : 0.178\n",
      "PR-AUC               : 0.110\n",
      "ROC-AUC              : 0.589\n",
      "Erreurs :  TP= 1853  | FP= 14052  | FN= 3112  | TN= 42486\n",
      "\n",
      "Écrit : c:\\Users\\FFix\\Desktop\\Formation Data Science\\Projects\\OpenClassroom\\Project 07\\projet7_starter\\config\\threshold.json\n"
     ]
    }
   ],
   "source": [
    "# Baseline simple sur 6 features de comptage + seuil auto\n",
    "from pathlib import Path\n",
    "import numpy as np, pandas as pd, json\n",
    "from sklearn.model_selection import train_test_split\n",
    "from sklearn.pipeline import Pipeline\n",
    "from sklearn.impute import SimpleImputer\n",
    "from sklearn.preprocessing import StandardScaler\n",
    "from sklearn.linear_model import LogisticRegression\n",
    "from sklearn.metrics import precision_recall_curve, f1_score, confusion_matrix, roc_auc_score, average_precision_score\n",
    "\n",
    "ROOT = Path.cwd() if (Path.cwd()/ \"data\" / \"processed\").exists() else Path.cwd().parent\n",
    "PROC = ROOT / \"data\" / \"processed\"\n",
    "CFG  = ROOT / \"config\"; CFG.mkdir(exist_ok=True)\n",
    "\n",
    "# 1) Charger les données enrichies\n",
    "df = pd.read_csv(PROC / \"train_plus_bureau_prev.csv\")\n",
    "\n",
    "# 2) Features simples (présentes) + cible\n",
    "feat_cols = [c for c in [\"n_bureau\",\"n_bureau_months\",\"n_prev\",\"n_inst_pay\",\"n_pos_cash\",\"n_ccb\"] if c in df.columns]\n",
    "X = df[feat_cols].astype(float)\n",
    "y = df[\"TARGET\"].astype(int).values\n",
    "print(\"Features utilisées:\", feat_cols, \"| Positifs (classe 1):\", int(y.sum()))\n",
    "\n",
    "# 3) Découpage (stratifié)\n",
    "Xtr, Xva, ytr, yva = train_test_split(X, y, test_size=0.2, random_state=42, stratify=y)\n",
    "\n",
    "# 4) Modèle simple (imputation + standardisation + régression logistique pondérée)\n",
    "pipe = Pipeline([\n",
    "    (\"imp\", SimpleImputer(strategy=\"median\")),\n",
    "    (\"scaler\", StandardScaler()),\n",
    "    (\"clf\", LogisticRegression(max_iter=1000, class_weight=\"balanced\"))\n",
    "])\n",
    "pipe.fit(Xtr, ytr)\n",
    "proba = pipe.predict_proba(Xva)[:,1]\n",
    "\n",
    "# 5) Choix auto du meilleur seuil pour F1\n",
    "prec, rec, thr = precision_recall_curve(yva, proba)\n",
    "f1s = (2*prec*rec/(prec+rec+1e-12))[:-1]\n",
    "best_i   = int(np.argmax(f1s))\n",
    "best_thr = float(thr[best_i])\n",
    "pred     = (proba >= best_thr).astype(int)\n",
    "\n",
    "# 6) Résumé clair\n",
    "tn, fp, fn, tp = confusion_matrix(yva, pred).ravel()\n",
    "print(f\"\\nSeuil choisi (auto) : {best_thr:.3f}\")\n",
    "print(f\"F1 (avec ce seuil)  : {f1_score(yva, pred):.3f}\")\n",
    "print(f\"PR-AUC               : {average_precision_score(yva, proba):.3f}\")\n",
    "print(f\"ROC-AUC              : {roc_auc_score(yva, proba):.3f}\")\n",
    "print(\"Erreurs :  TP=\",tp,\" | FP=\",fp,\" | FN=\",fn,\" | TN=\",tn)\n",
    "\n",
    "# 7) Sauvegarde du seuil pour la suite\n",
    "with open(CFG / \"threshold.json\",\"w\") as f:\n",
    "    json.dump({\"threshold\": best_thr}, f)\n",
    "print(\"\\nÉcrit :\", CFG / \"threshold.json\")\n"
   ]
  },
  {
   "cell_type": "code",
   "execution_count": 23,
   "id": "4243ab1b",
   "metadata": {},
   "outputs": [
    {
     "name": "stdout",
     "output_type": "stream",
     "text": [
      "base: (307511, 8)\n",
      "app: (307511, 11) | colonnes lues: ['SK_ID_CURR', 'TARGET', 'AMT_CREDIT', 'AMT_INCOME_TOTAL', 'AMT_ANNUITY', 'AMT_GOODS_PRICE', 'DAYS_BIRTH', 'DAYS_EMPLOYED', 'EXT_SOURCE_1', 'EXT_SOURCE_2', 'EXT_SOURCE_3']\n",
      "app_feat: (307511, 11)\n",
      "final: (307511, 17)\n",
      "Écrit : c:\\Users\\FFix\\Desktop\\Formation Data Science\\Projects\\OpenClassroom\\Project 07\\projet7_starter\\data\\processed\\train_features_v1.csv\n"
     ]
    }
   ],
   "source": [
    "# Étape 6A — Features simples depuis application_train + merge avec nos compteurs\n",
    "from pathlib import Path\n",
    "import numpy as np\n",
    "import pandas as pd\n",
    "\n",
    "ROOT = Path.cwd() if (Path.cwd()/ \"data\" / \"raw\").exists() else Path.cwd().parent\n",
    "RAW  = ROOT / \"data\" / \"raw\"\n",
    "PROC = ROOT / \"data\" / \"processed\"\n",
    "PROC.mkdir(parents=True, exist_ok=True)\n",
    "\n",
    "# 0) Charger notre base actuelle (contient TARGET + 6 compteurs)\n",
    "base = pd.read_csv(PROC / \"train_plus_bureau_prev.csv\")  # (SK_ID_CURR, TARGET, n_*)\n",
    "print(\"base:\", base.shape)\n",
    "\n",
    "# 1) Colonnes possibles dans application_train (on lit l'entête pour savoir ce qui existe)\n",
    "hdr = pd.read_csv(RAW / \"application_train.csv\", nrows=0).columns\n",
    "want = [\n",
    "    \"SK_ID_CURR\",\"TARGET\",\n",
    "    \"AMT_CREDIT\",\"AMT_INCOME_TOTAL\",\"AMT_ANNUITY\",\"AMT_GOODS_PRICE\",\n",
    "    \"DAYS_BIRTH\",\"DAYS_EMPLOYED\",\n",
    "    \"EXT_SOURCE_1\",\"EXT_SOURCE_2\",\"EXT_SOURCE_3\"\n",
    "]\n",
    "usecols = [c for c in want if c in hdr]\n",
    "app = pd.read_csv(RAW / \"application_train.csv\", usecols=usecols)\n",
    "print(\"app:\", app.shape, \"| colonnes lues:\", usecols)\n",
    "\n",
    "# 2) Features simples (créées seulement si les colonnes existent)\n",
    "def has(*cols): \n",
    "    return all(c in app.columns for c in cols)\n",
    "\n",
    "if has(\"AMT_CREDIT\",\"AMT_INCOME_TOTAL\"):\n",
    "    app[\"credit_income_perc\"] = app[\"AMT_CREDIT\"] / app[\"AMT_INCOME_TOTAL\"].replace(0,np.nan)\n",
    "\n",
    "if has(\"AMT_ANNUITY\",\"AMT_INCOME_TOTAL\"):\n",
    "    app[\"annuity_income_perc\"] = app[\"AMT_ANNUITY\"] / app[\"AMT_INCOME_TOTAL\"].replace(0,np.nan)\n",
    "\n",
    "if has(\"AMT_CREDIT\",\"AMT_ANNUITY\"):\n",
    "    app[\"credit_term\"] = app[\"AMT_CREDIT\"] / app[\"AMT_ANNUITY\"].replace(0,np.nan)\n",
    "\n",
    "if has(\"AMT_GOODS_PRICE\",\"AMT_CREDIT\"):\n",
    "    app[\"goods_credit_ratio\"] = app[\"AMT_GOODS_PRICE\"] / app[\"AMT_CREDIT\"].replace(0,np.nan)\n",
    "\n",
    "if has(\"DAYS_BIRTH\"):\n",
    "    app[\"age_years\"] = -app[\"DAYS_BIRTH\"] / 365.0\n",
    "\n",
    "if has(\"DAYS_EMPLOYED\"):\n",
    "    # 365243 est une valeur spéciale = manquant → on met NaN\n",
    "    app.loc[app[\"DAYS_EMPLOYED\"] > 365000, \"DAYS_EMPLOYED\"] = np.nan\n",
    "    app[\"employed_years\"] = -app[\"DAYS_EMPLOYED\"] / 365.0\n",
    "\n",
    "# 3) Garder seulement SK_ID_CURR, TARGET et nos nouvelles colonnes\n",
    "keep = [\"SK_ID_CURR\",\"TARGET\"] + [c for c in [\n",
    "    \"credit_income_perc\",\"annuity_income_perc\",\"credit_term\",\"goods_credit_ratio\",\n",
    "    \"age_years\",\"employed_years\",\"EXT_SOURCE_1\",\"EXT_SOURCE_2\",\"EXT_SOURCE_3\"\n",
    "] if c in app.columns]\n",
    "app_feat = app[keep].copy()\n",
    "print(\"app_feat:\", app_feat.shape)\n",
    "\n",
    "# 4) Merge avec la base (niveau client) — on laisse les NaN (imputation par le modèle)\n",
    "final = base.merge(app_feat, on=[\"SK_ID_CURR\",\"TARGET\"], how=\"left\")\n",
    "print(\"final:\", final.shape)\n",
    "\n",
    "out = PROC / \"train_features_v1.csv\"\n",
    "final.to_csv(out, index=False)\n",
    "print(\"Écrit :\", out)\n"
   ]
  }
 ],
 "metadata": {
  "kernelspec": {
   "display_name": "Python (.venv) Projet7",
   "language": "python",
   "name": "projet7"
  },
  "language_info": {
   "codemirror_mode": {
    "name": "ipython",
    "version": 3
   },
   "file_extension": ".py",
   "mimetype": "text/x-python",
   "name": "python",
   "nbconvert_exporter": "python",
   "pygments_lexer": "ipython3",
   "version": "3.10.11"
  }
 },
 "nbformat": 4,
 "nbformat_minor": 5
}
