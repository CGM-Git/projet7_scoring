{
 "cells": [
  {
   "cell_type": "code",
   "execution_count": 1,
   "id": "d55bce92",
   "metadata": {},
   "outputs": [
    {
     "name": "stdout",
     "output_type": "stream",
     "text": [
      "Écrit : c:\\Users\\FFix\\Desktop\\Formation Data Science\\Projects\\OpenClassroom\\Project 07\\projet7_starter\\requirements.txt\n"
     ]
    }
   ],
   "source": [
    "# P1 — écrire requirements.txt depuis le venv actif\n",
    "from pathlib import Path, sys\n",
    "import os\n",
    "ROOT = Path.cwd() if (Path.cwd()/ \"data\" / \"processed\").exists() else Path.cwd().parent\n",
    "req = ROOT/\"requirements.txt\"\n",
    "os.system(f\"{sys.executable} -m pip freeze > {req}\")\n",
    "print(\"Écrit :\", req)\n"
   ]
  },
  {
   "cell_type": "code",
   "execution_count": 2,
   "id": "63d4de2f",
   "metadata": {},
   "outputs": [
    {
     "name": "stdout",
     "output_type": "stream",
     "text": [
      "Écrit : c:\\Users\\FFix\\Desktop\\Formation Data Science\\Projects\\OpenClassroom\\Project 07\\projet7_starter\\.gitignore\n"
     ]
    }
   ],
   "source": [
    "# P2 — crée un .gitignore simple\n",
    "from pathlib import Path\n",
    "ROOT = Path.cwd() if (Path.cwd()/ \"data\" / \"processed\").exists() else Path.cwd().parent\n",
    "gi = ROOT/\".gitignore\"\n",
    "gi.write_text(\"\"\"# Python\n",
    "__pycache__/\n",
    "*.pyc\n",
    ".ipynb_checkpoints/\n",
    ".venv/\n",
    "\n",
    "# Données volumineuses\n",
    "data/raw/\n",
    "data/processed/*.csv\n",
    "\n",
    "# Modèles / figures\n",
    "models/*.joblib\n",
    "reports/figures/\n",
    "\"\"\", encoding=\"utf-8\")\n",
    "print(\"Écrit :\", gi)\n"
   ]
  },
  {
   "cell_type": "code",
   "execution_count": 3,
   "id": "173b7228",
   "metadata": {},
   "outputs": [
    {
     "name": "stdout",
     "output_type": "stream",
     "text": [
      "Écrit : c:\\Users\\FFix\\Desktop\\Formation Data Science\\Projects\\OpenClassroom\\Project 07\\projet7_starter\\src\\predict_cli.py\n"
     ]
    }
   ],
   "source": [
    "# P3 — écrire src/predict_cli.py\n",
    "from pathlib import Path\n",
    "ROOT = Path.cwd() if (Path.cwd()/ \"data\" / \"processed\").exists() else Path.cwd().parent\n",
    "SRC = ROOT/\"src\"; SRC.mkdir(exist_ok=True)\n",
    "code = r'''\n",
    "import argparse, json\n",
    "from pathlib import Path\n",
    "import pandas as pd, numpy as np, joblib\n",
    "\n",
    "def main():\n",
    "    parser = argparse.ArgumentParser(description=\"Prédire avec le modèle RF baseline\")\n",
    "    parser.add_argument(\"--input\", required=True, help=\"CSV featuré (colonnes = features du modèle)\")\n",
    "    parser.add_argument(\"--output\", required=True, help=\"CSV de sortie (avec proba et prédiction)\")\n",
    "    args = parser.parse_args()\n",
    "\n",
    "    ROOT = Path(__file__).resolve().parents[1]\n",
    "    MODELS = ROOT/\"models\"\n",
    "    meta = json.load(open(MODELS/\"model_meta.json\"))\n",
    "    feat = meta[\"features\"]; thr = meta[\"threshold\"]\n",
    "\n",
    "    rf  = joblib.load(MODELS/\"rf_model.joblib\")\n",
    "    imp = joblib.load(MODELS/\"imputer.joblib\")\n",
    "\n",
    "    df = pd.read_csv(args.input)\n",
    "    # sécurité: créer colonnes manquantes à NaN, et garder l'ordre\n",
    "    for c in feat:\n",
    "        if c not in df.columns:\n",
    "            df[c] = np.nan\n",
    "    X = df[feat].astype(float).values\n",
    "    X = imp.transform(X)\n",
    "    proba = rf.predict_proba(X)[:,1]\n",
    "    pred  = (proba >= thr).astype(int)\n",
    "\n",
    "    out = df.copy()\n",
    "    out[\"proba\"] = proba\n",
    "    out[\"pred\"]  = pred\n",
    "    Path(args.output).parent.mkdir(parents=True, exist_ok=True)\n",
    "    out.to_csv(args.output, index=False)\n",
    "    print(\"Écrit:\", args.output, \"| lignes:\", len(out))\n",
    "\n",
    "if __name__ == \"__main__\":\n",
    "    main()\n",
    "'''\n",
    "(SRC/\"predict_cli.py\").write_text(code, encoding=\"utf-8\")\n",
    "print(\"Écrit :\", SRC/\"predict_cli.py\")\n"
   ]
  }
 ],
 "metadata": {
  "kernelspec": {
   "display_name": "Python (.venv) Projet7",
   "language": "python",
   "name": "projet7"
  },
  "language_info": {
   "codemirror_mode": {
    "name": "ipython",
    "version": 3
   },
   "file_extension": ".py",
   "mimetype": "text/x-python",
   "name": "python",
   "nbconvert_exporter": "python",
   "pygments_lexer": "ipython3",
   "version": "3.10.11"
  }
 },
 "nbformat": 4,
 "nbformat_minor": 5
}
